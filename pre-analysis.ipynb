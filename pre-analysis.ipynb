{
 "cells": [
  {
   "cell_type": "markdown",
   "id": "d435672e-e6b4-4661-9d03-12bcfee892ea",
   "metadata": {},
   "source": [
    "## [ Indonesian Rice SNPs - Information Content Pre-analysis ]\n",
    "`Prepared by` <b>Nicholas Dominic, S.Kom., M.T.I.</b>"
   ]
  },
  {
   "cell_type": "markdown",
   "id": "59a222e2-d448-40b1-ace9-2f86f6dca9ae",
   "metadata": {},
   "source": [
    "### Define libraries"
   ]
  },
  {
   "cell_type": "code",
   "execution_count": 1,
   "id": "602a39b5-e5a0-40ee-a55b-5c1a80b6ff8d",
   "metadata": {},
   "outputs": [],
   "source": [
    "from snp_info import load_dataset, SNPinfo\n",
    "from pandas import read_csv\n",
    "from numpy import log2\n",
    "from sklearn.metrics import mutual_info_score as mis\n",
    "from matplotlib import pyplot as plt\n",
    "from seaborn import distplot\n",
    "from warnings import filterwarnings as fw; fw(\"ignore\")"
   ]
  },
  {
   "cell_type": "code",
   "execution_count": 2,
   "id": "efd90284-496f-4ac9-a51f-8e21a059684b",
   "metadata": {},
   "outputs": [],
   "source": [
    "save_path, ext = \"./results/\", \".png\""
   ]
  },
  {
   "cell_type": "markdown",
   "id": "6ae0331e-9d44-43ce-95d8-b19de3c4ff29",
   "metadata": {},
   "source": [
    "### Gene co-expression (all SNPs)"
   ]
  },
  {
   "cell_type": "code",
   "execution_count": 3,
   "id": "8089a466-1fb4-4c21-849f-60fded1ec66a",
   "metadata": {},
   "outputs": [
    {
     "data": {
      "text/html": [
       "<div>\n",
       "<style scoped>\n",
       "    .dataframe tbody tr th:only-of-type {\n",
       "        vertical-align: middle;\n",
       "    }\n",
       "\n",
       "    .dataframe tbody tr th {\n",
       "        vertical-align: top;\n",
       "    }\n",
       "\n",
       "    .dataframe thead th {\n",
       "        text-align: right;\n",
       "    }\n",
       "</style>\n",
       "<table border=\"1\" class=\"dataframe\">\n",
       "  <thead>\n",
       "    <tr style=\"text-align: right;\">\n",
       "      <th></th>\n",
       "      <th>id1000223_T</th>\n",
       "      <th>id1001073_G</th>\n",
       "      <th>id1001973_T</th>\n",
       "      <th>id1002158_T</th>\n",
       "      <th>id1002308_C</th>\n",
       "      <th>id1003036_G</th>\n",
       "      <th>id1003559_T</th>\n",
       "      <th>id1003838_T</th>\n",
       "      <th>id1004109_T</th>\n",
       "      <th>id1004591_G</th>\n",
       "      <th>...</th>\n",
       "      <th>id12008136_G</th>\n",
       "      <th>id12008285_C</th>\n",
       "      <th>id12008328_T</th>\n",
       "      <th>id12008665_T</th>\n",
       "      <th>id12008894_A</th>\n",
       "      <th>id12009153_A</th>\n",
       "      <th>id12009407_C</th>\n",
       "      <th>id12009654_A</th>\n",
       "      <th>id12009820_T</th>\n",
       "      <th>id12010152_T</th>\n",
       "    </tr>\n",
       "  </thead>\n",
       "  <tbody>\n",
       "    <tr>\n",
       "      <th>id1000223_T</th>\n",
       "      <td>1.000000</td>\n",
       "      <td>0.213814</td>\n",
       "      <td>0.138450</td>\n",
       "      <td>0.039201</td>\n",
       "      <td>0.101684</td>\n",
       "      <td>-0.081141</td>\n",
       "      <td>0.227860</td>\n",
       "      <td>0.212633</td>\n",
       "      <td>-0.014032</td>\n",
       "      <td>0.023536</td>\n",
       "      <td>...</td>\n",
       "      <td>0.084106</td>\n",
       "      <td>-0.001705</td>\n",
       "      <td>-0.136974</td>\n",
       "      <td>0.375078</td>\n",
       "      <td>0.203607</td>\n",
       "      <td>-0.018125</td>\n",
       "      <td>0.015553</td>\n",
       "      <td>0.104946</td>\n",
       "      <td>0.173046</td>\n",
       "      <td>-0.170585</td>\n",
       "    </tr>\n",
       "    <tr>\n",
       "      <th>id1001073_G</th>\n",
       "      <td>0.213814</td>\n",
       "      <td>1.000000</td>\n",
       "      <td>0.325534</td>\n",
       "      <td>0.399764</td>\n",
       "      <td>-0.119492</td>\n",
       "      <td>-0.183696</td>\n",
       "      <td>-0.161821</td>\n",
       "      <td>-0.239777</td>\n",
       "      <td>0.274572</td>\n",
       "      <td>-0.253823</td>\n",
       "      <td>...</td>\n",
       "      <td>-0.223192</td>\n",
       "      <td>-0.109022</td>\n",
       "      <td>0.219199</td>\n",
       "      <td>-0.121688</td>\n",
       "      <td>-0.232642</td>\n",
       "      <td>-0.018151</td>\n",
       "      <td>-0.071092</td>\n",
       "      <td>-0.266771</td>\n",
       "      <td>-0.113474</td>\n",
       "      <td>0.244835</td>\n",
       "    </tr>\n",
       "    <tr>\n",
       "      <th>id1001973_T</th>\n",
       "      <td>0.138450</td>\n",
       "      <td>0.325534</td>\n",
       "      <td>1.000000</td>\n",
       "      <td>0.824565</td>\n",
       "      <td>-0.346137</td>\n",
       "      <td>-0.234277</td>\n",
       "      <td>0.060567</td>\n",
       "      <td>0.071507</td>\n",
       "      <td>0.161289</td>\n",
       "      <td>-0.187252</td>\n",
       "      <td>...</td>\n",
       "      <td>0.098804</td>\n",
       "      <td>-0.135070</td>\n",
       "      <td>0.051473</td>\n",
       "      <td>0.108243</td>\n",
       "      <td>0.040103</td>\n",
       "      <td>0.075768</td>\n",
       "      <td>-0.013962</td>\n",
       "      <td>0.044448</td>\n",
       "      <td>0.045174</td>\n",
       "      <td>0.022047</td>\n",
       "    </tr>\n",
       "    <tr>\n",
       "      <th>id1002158_T</th>\n",
       "      <td>0.039201</td>\n",
       "      <td>0.399764</td>\n",
       "      <td>0.824565</td>\n",
       "      <td>1.000000</td>\n",
       "      <td>-0.304522</td>\n",
       "      <td>0.010848</td>\n",
       "      <td>-0.012002</td>\n",
       "      <td>-0.148243</td>\n",
       "      <td>0.299592</td>\n",
       "      <td>-0.227596</td>\n",
       "      <td>...</td>\n",
       "      <td>0.018385</td>\n",
       "      <td>-0.087731</td>\n",
       "      <td>0.122924</td>\n",
       "      <td>0.017586</td>\n",
       "      <td>-0.186104</td>\n",
       "      <td>0.069240</td>\n",
       "      <td>-0.104661</td>\n",
       "      <td>-0.163270</td>\n",
       "      <td>-0.094119</td>\n",
       "      <td>0.082398</td>\n",
       "    </tr>\n",
       "    <tr>\n",
       "      <th>id1002308_C</th>\n",
       "      <td>0.101684</td>\n",
       "      <td>-0.119492</td>\n",
       "      <td>-0.346137</td>\n",
       "      <td>-0.304522</td>\n",
       "      <td>1.000000</td>\n",
       "      <td>0.419449</td>\n",
       "      <td>0.188837</td>\n",
       "      <td>0.160258</td>\n",
       "      <td>0.077974</td>\n",
       "      <td>-0.163096</td>\n",
       "      <td>...</td>\n",
       "      <td>0.041922</td>\n",
       "      <td>0.058337</td>\n",
       "      <td>-0.150585</td>\n",
       "      <td>0.152978</td>\n",
       "      <td>0.249867</td>\n",
       "      <td>-0.097667</td>\n",
       "      <td>-0.094462</td>\n",
       "      <td>0.185969</td>\n",
       "      <td>0.222126</td>\n",
       "      <td>0.069089</td>\n",
       "    </tr>\n",
       "    <tr>\n",
       "      <th>...</th>\n",
       "      <td>...</td>\n",
       "      <td>...</td>\n",
       "      <td>...</td>\n",
       "      <td>...</td>\n",
       "      <td>...</td>\n",
       "      <td>...</td>\n",
       "      <td>...</td>\n",
       "      <td>...</td>\n",
       "      <td>...</td>\n",
       "      <td>...</td>\n",
       "      <td>...</td>\n",
       "      <td>...</td>\n",
       "      <td>...</td>\n",
       "      <td>...</td>\n",
       "      <td>...</td>\n",
       "      <td>...</td>\n",
       "      <td>...</td>\n",
       "      <td>...</td>\n",
       "      <td>...</td>\n",
       "      <td>...</td>\n",
       "      <td>...</td>\n",
       "    </tr>\n",
       "    <tr>\n",
       "      <th>id12009153_A</th>\n",
       "      <td>-0.018125</td>\n",
       "      <td>-0.018151</td>\n",
       "      <td>0.075768</td>\n",
       "      <td>0.069240</td>\n",
       "      <td>-0.097667</td>\n",
       "      <td>-0.067207</td>\n",
       "      <td>0.245860</td>\n",
       "      <td>0.121029</td>\n",
       "      <td>-0.027030</td>\n",
       "      <td>-0.073895</td>\n",
       "      <td>...</td>\n",
       "      <td>-0.042787</td>\n",
       "      <td>0.147546</td>\n",
       "      <td>-0.031327</td>\n",
       "      <td>0.012905</td>\n",
       "      <td>-0.031740</td>\n",
       "      <td>1.000000</td>\n",
       "      <td>0.294846</td>\n",
       "      <td>0.042672</td>\n",
       "      <td>-0.087167</td>\n",
       "      <td>0.074304</td>\n",
       "    </tr>\n",
       "    <tr>\n",
       "      <th>id12009407_C</th>\n",
       "      <td>0.015553</td>\n",
       "      <td>-0.071092</td>\n",
       "      <td>-0.013962</td>\n",
       "      <td>-0.104661</td>\n",
       "      <td>-0.094462</td>\n",
       "      <td>-0.070103</td>\n",
       "      <td>0.072771</td>\n",
       "      <td>0.136017</td>\n",
       "      <td>-0.123088</td>\n",
       "      <td>0.068672</td>\n",
       "      <td>...</td>\n",
       "      <td>-0.003566</td>\n",
       "      <td>0.165777</td>\n",
       "      <td>-0.033518</td>\n",
       "      <td>0.036851</td>\n",
       "      <td>-0.022705</td>\n",
       "      <td>0.294846</td>\n",
       "      <td>1.000000</td>\n",
       "      <td>0.058424</td>\n",
       "      <td>-0.063368</td>\n",
       "      <td>0.015897</td>\n",
       "    </tr>\n",
       "    <tr>\n",
       "      <th>id12009654_A</th>\n",
       "      <td>0.104946</td>\n",
       "      <td>-0.266771</td>\n",
       "      <td>0.044448</td>\n",
       "      <td>-0.163270</td>\n",
       "      <td>0.185969</td>\n",
       "      <td>-0.047543</td>\n",
       "      <td>0.159464</td>\n",
       "      <td>0.487133</td>\n",
       "      <td>-0.134730</td>\n",
       "      <td>-0.058994</td>\n",
       "      <td>...</td>\n",
       "      <td>0.348439</td>\n",
       "      <td>-0.068737</td>\n",
       "      <td>-0.139761</td>\n",
       "      <td>0.288753</td>\n",
       "      <td>0.727638</td>\n",
       "      <td>0.042672</td>\n",
       "      <td>0.058424</td>\n",
       "      <td>1.000000</td>\n",
       "      <td>0.442469</td>\n",
       "      <td>-0.126307</td>\n",
       "    </tr>\n",
       "    <tr>\n",
       "      <th>id12009820_T</th>\n",
       "      <td>0.173046</td>\n",
       "      <td>-0.113474</td>\n",
       "      <td>0.045174</td>\n",
       "      <td>-0.094119</td>\n",
       "      <td>0.222126</td>\n",
       "      <td>0.153191</td>\n",
       "      <td>0.270400</td>\n",
       "      <td>0.331975</td>\n",
       "      <td>-0.079827</td>\n",
       "      <td>-0.213065</td>\n",
       "      <td>...</td>\n",
       "      <td>0.367859</td>\n",
       "      <td>-0.188495</td>\n",
       "      <td>-0.128566</td>\n",
       "      <td>0.243271</td>\n",
       "      <td>0.571623</td>\n",
       "      <td>-0.087167</td>\n",
       "      <td>-0.063368</td>\n",
       "      <td>0.442469</td>\n",
       "      <td>1.000000</td>\n",
       "      <td>-0.283328</td>\n",
       "    </tr>\n",
       "    <tr>\n",
       "      <th>id12010152_T</th>\n",
       "      <td>-0.170585</td>\n",
       "      <td>0.244835</td>\n",
       "      <td>0.022047</td>\n",
       "      <td>0.082398</td>\n",
       "      <td>0.069089</td>\n",
       "      <td>-0.002704</td>\n",
       "      <td>-0.144814</td>\n",
       "      <td>-0.112762</td>\n",
       "      <td>0.174187</td>\n",
       "      <td>-0.268514</td>\n",
       "      <td>...</td>\n",
       "      <td>-0.128769</td>\n",
       "      <td>0.029078</td>\n",
       "      <td>0.108699</td>\n",
       "      <td>-0.174629</td>\n",
       "      <td>-0.198877</td>\n",
       "      <td>0.074304</td>\n",
       "      <td>0.015897</td>\n",
       "      <td>-0.126307</td>\n",
       "      <td>-0.283328</td>\n",
       "      <td>1.000000</td>\n",
       "    </tr>\n",
       "  </tbody>\n",
       "</table>\n",
       "<p>1232 rows × 1232 columns</p>\n",
       "</div>"
      ],
      "text/plain": [
       "              id1000223_T  id1001073_G  id1001973_T  id1002158_T  id1002308_C  \\\n",
       "id1000223_T      1.000000     0.213814     0.138450     0.039201     0.101684   \n",
       "id1001073_G      0.213814     1.000000     0.325534     0.399764    -0.119492   \n",
       "id1001973_T      0.138450     0.325534     1.000000     0.824565    -0.346137   \n",
       "id1002158_T      0.039201     0.399764     0.824565     1.000000    -0.304522   \n",
       "id1002308_C      0.101684    -0.119492    -0.346137    -0.304522     1.000000   \n",
       "...                   ...          ...          ...          ...          ...   \n",
       "id12009153_A    -0.018125    -0.018151     0.075768     0.069240    -0.097667   \n",
       "id12009407_C     0.015553    -0.071092    -0.013962    -0.104661    -0.094462   \n",
       "id12009654_A     0.104946    -0.266771     0.044448    -0.163270     0.185969   \n",
       "id12009820_T     0.173046    -0.113474     0.045174    -0.094119     0.222126   \n",
       "id12010152_T    -0.170585     0.244835     0.022047     0.082398     0.069089   \n",
       "\n",
       "              id1003036_G  id1003559_T  id1003838_T  id1004109_T  id1004591_G  \\\n",
       "id1000223_T     -0.081141     0.227860     0.212633    -0.014032     0.023536   \n",
       "id1001073_G     -0.183696    -0.161821    -0.239777     0.274572    -0.253823   \n",
       "id1001973_T     -0.234277     0.060567     0.071507     0.161289    -0.187252   \n",
       "id1002158_T      0.010848    -0.012002    -0.148243     0.299592    -0.227596   \n",
       "id1002308_C      0.419449     0.188837     0.160258     0.077974    -0.163096   \n",
       "...                   ...          ...          ...          ...          ...   \n",
       "id12009153_A    -0.067207     0.245860     0.121029    -0.027030    -0.073895   \n",
       "id12009407_C    -0.070103     0.072771     0.136017    -0.123088     0.068672   \n",
       "id12009654_A    -0.047543     0.159464     0.487133    -0.134730    -0.058994   \n",
       "id12009820_T     0.153191     0.270400     0.331975    -0.079827    -0.213065   \n",
       "id12010152_T    -0.002704    -0.144814    -0.112762     0.174187    -0.268514   \n",
       "\n",
       "              ...  id12008136_G  id12008285_C  id12008328_T  id12008665_T  \\\n",
       "id1000223_T   ...      0.084106     -0.001705     -0.136974      0.375078   \n",
       "id1001073_G   ...     -0.223192     -0.109022      0.219199     -0.121688   \n",
       "id1001973_T   ...      0.098804     -0.135070      0.051473      0.108243   \n",
       "id1002158_T   ...      0.018385     -0.087731      0.122924      0.017586   \n",
       "id1002308_C   ...      0.041922      0.058337     -0.150585      0.152978   \n",
       "...           ...           ...           ...           ...           ...   \n",
       "id12009153_A  ...     -0.042787      0.147546     -0.031327      0.012905   \n",
       "id12009407_C  ...     -0.003566      0.165777     -0.033518      0.036851   \n",
       "id12009654_A  ...      0.348439     -0.068737     -0.139761      0.288753   \n",
       "id12009820_T  ...      0.367859     -0.188495     -0.128566      0.243271   \n",
       "id12010152_T  ...     -0.128769      0.029078      0.108699     -0.174629   \n",
       "\n",
       "              id12008894_A  id12009153_A  id12009407_C  id12009654_A  \\\n",
       "id1000223_T       0.203607     -0.018125      0.015553      0.104946   \n",
       "id1001073_G      -0.232642     -0.018151     -0.071092     -0.266771   \n",
       "id1001973_T       0.040103      0.075768     -0.013962      0.044448   \n",
       "id1002158_T      -0.186104      0.069240     -0.104661     -0.163270   \n",
       "id1002308_C       0.249867     -0.097667     -0.094462      0.185969   \n",
       "...                    ...           ...           ...           ...   \n",
       "id12009153_A     -0.031740      1.000000      0.294846      0.042672   \n",
       "id12009407_C     -0.022705      0.294846      1.000000      0.058424   \n",
       "id12009654_A      0.727638      0.042672      0.058424      1.000000   \n",
       "id12009820_T      0.571623     -0.087167     -0.063368      0.442469   \n",
       "id12010152_T     -0.198877      0.074304      0.015897     -0.126307   \n",
       "\n",
       "              id12009820_T  id12010152_T  \n",
       "id1000223_T       0.173046     -0.170585  \n",
       "id1001073_G      -0.113474      0.244835  \n",
       "id1001973_T       0.045174      0.022047  \n",
       "id1002158_T      -0.094119      0.082398  \n",
       "id1002308_C       0.222126      0.069089  \n",
       "...                    ...           ...  \n",
       "id12009153_A     -0.087167      0.074304  \n",
       "id12009407_C     -0.063368      0.015897  \n",
       "id12009654_A      0.442469     -0.126307  \n",
       "id12009820_T      1.000000     -0.283328  \n",
       "id12010152_T     -0.283328      1.000000  \n",
       "\n",
       "[1232 rows x 1232 columns]"
      ]
     },
     "execution_count": 3,
     "metadata": {},
     "output_type": "execute_result"
    }
   ],
   "source": [
    "snps = load_dataset()\n",
    "snps.corr()"
   ]
  },
  {
   "cell_type": "code",
   "execution_count": 4,
   "id": "c47d60bd-936a-4ee4-a61d-73b19998e820",
   "metadata": {},
   "outputs": [
    {
     "data": {
      "text/plain": [
       "<snp_info.SNPinfo at 0x1ecaa095f40>"
      ]
     },
     "execution_count": 4,
     "metadata": {},
     "output_type": "execute_result"
    }
   ],
   "source": [
    "si = SNPinfo(snps=snps)\n",
    "si"
   ]
  },
  {
   "cell_type": "markdown",
   "id": "c6899d0c-aa80-4f31-86f2-36215552ad73",
   "metadata": {
    "tags": []
   },
   "source": [
    "### Entropy"
   ]
  },
  {
   "cell_type": "markdown",
   "id": "d99f3c04-2d03-4690-a643-c0ac67ebfd3b",
   "metadata": {},
   "source": [
    "Properties of entropy:\n",
    "* Non negativity: H(X) ≥ 0, entropy is always non-negative. H(X) = 0 iff X is deterministic."
   ]
  },
  {
   "cell_type": "code",
   "execution_count": 5,
   "id": "4c8e9029-700c-45a8-b554-05060a7a3a7a",
   "metadata": {},
   "outputs": [
    {
     "data": {
      "text/plain": [
       "1.584962500721156"
      ]
     },
     "execution_count": 5,
     "metadata": {},
     "output_type": "execute_result"
    }
   ],
   "source": [
    "# Maximum entropy value, i.e., log2(n), where n = number of class\n",
    "# Formally, it can be written as H(n) <= log2(|n|)\n",
    "# In the rice SNPs, we have 3 classes (0, 1, 2) and therefore its entropy values range between 0 to log2(3)\n",
    "max_entropy_val = log2(len(set(snps.id1000223_T)))\n",
    "max_entropy_val"
   ]
  },
  {
   "cell_type": "code",
   "execution_count": 6,
   "id": "364fbf01-bf6b-4d84-8787-80a9f660f98d",
   "metadata": {},
   "outputs": [],
   "source": [
    "entropy_each_snp = {i : si.entropy(snps[i]) for i in snps.columns}"
   ]
  },
  {
   "cell_type": "code",
   "execution_count": 7,
   "id": "9d614f35-36fe-4db3-b310-a02ff49a2bab",
   "metadata": {},
   "outputs": [
    {
     "data": {
      "image/png": "[encoded data removed]",
      "text/plain": [
       "<Figure size 720x360 with 1 Axes>"
      ]
     },
     "metadata": {
      "needs_background": "light"
     },
     "output_type": "display_data"
    }
   ],
   "source": [
    "plt.figure(figsize=(10, 5))\n",
    "plt.title(\"Entropy Distribution\")\n",
    "plt.xlabel(\"Entropy value (bits)\")\n",
    "distplot(list(entropy_each_snp.values()), bins=15, color='g', rug=True, hist_kws=dict(edgecolor=\"white\", linewidth=2))\n",
    "plt.show()\n",
    "\n",
    "# To save this figure:\n",
    "# plt.savefig(fname=save_path + \"preanalysis/entropy-dist\" + ext, dpi=500, bbox_inches='tight')"
   ]
  },
  {
   "cell_type": "markdown",
   "id": "315cf32c-fe98-438b-a381-8221293186c7",
   "metadata": {},
   "source": [
    "### Joint Entropy"
   ]
  },
  {
   "cell_type": "code",
   "execution_count": 8,
   "id": "5476c10e-83ab-4376-b3db-4d5f8fb23ea0",
   "metadata": {},
   "outputs": [
    {
     "data": {
      "text/plain": [
       "11.211384176533803"
      ]
     },
     "execution_count": 8,
     "metadata": {},
     "output_type": "execute_result"
    }
   ],
   "source": [
    "joint_entropy = si.entropy(snps.T.values, joint=True) # shape of prob. list = (1232, 3)\n",
    "joint_entropy"
   ]
  },
  {
   "cell_type": "code",
   "execution_count": 9,
   "id": "db64993e-f663-47c0-a581-68e4f6d99141",
   "metadata": {},
   "outputs": [
    {
     "data": {
      "text/plain": [
       "11.851749041416058"
      ]
     },
     "execution_count": 9,
     "metadata": {},
     "output_type": "execute_result"
    }
   ],
   "source": [
    "max_joint_entropy = log2(len(snps.columns)*3)\n",
    "max_joint_entropy"
   ]
  },
  {
   "cell_type": "markdown",
   "id": "ad562acc-de7b-4ff9-b4c5-62e14ba10e3f",
   "metadata": {},
   "source": [
    "### Total Correlation"
   ]
  },
  {
   "cell_type": "markdown",
   "id": "2fcd1bae-4ffa-4d7a-a302-45bb81c43f89",
   "metadata": {},
   "source": [
    "* The total correlation is the amount of information shared among the variables in the set."
   ]
  },
  {
   "cell_type": "code",
   "execution_count": 10,
   "id": "15b20ffa-e794-4ef8-b913-1df3d2d03329",
   "metadata": {},
   "outputs": [],
   "source": [
    "entropy_each_snp = [si.entropy(snps[i]) for i in snps.columns]"
   ]
  },
  {
   "cell_type": "code",
   "execution_count": 11,
   "id": "bee237c1-4682-45b8-9385-8d1288f9f46f",
   "metadata": {},
   "outputs": [
    {
     "data": {
      "text/plain": [
       "1152.5329"
      ]
     },
     "execution_count": 11,
     "metadata": {},
     "output_type": "execute_result"
    }
   ],
   "source": [
    "total_correlation = round(sum(entropy_each_snp) - joint_entropy, 5)\n",
    "total_correlation"
   ]
  },
  {
   "cell_type": "code",
   "execution_count": 12,
   "id": "6a440c27-0b9e-4fd5-bebf-104fd3d5e582",
   "metadata": {},
   "outputs": [
    {
     "data": {
      "text/plain": [
       "1162.1660203040674"
      ]
     },
     "execution_count": 12,
     "metadata": {},
     "output_type": "execute_result"
    }
   ],
   "source": [
    "max_total_correlation = sum(entropy_each_snp) - max(entropy_each_snp)\n",
    "max_total_correlation"
   ]
  },
  {
   "cell_type": "markdown",
   "id": "3d344481-ae1e-45c0-ac38-26fdf2915a31",
   "metadata": {},
   "source": [
    "### Mutual Information (MI)\n",
    "* Note: Positive Pointwise MI (PPMI) = max(MI, 0) is unnecessary, since there is no MI with negative value."
   ]
  },
  {
   "cell_type": "code",
   "execution_count": 13,
   "id": "a1df45bb-ca7b-483e-b57e-0ec323b5aa8d",
   "metadata": {},
   "outputs": [],
   "source": [
    "mutual_info = [round(mis(snps[i], snps[snps.columns[len(snps.columns)-1]]), 5) for i in snps.columns]\n",
    "# for i in snps.columns:\n",
    "#     print(\"{}: {:.5f}\".format(i, mis(snps[i], snps[snps.columns[len(snps.columns)-1]])))"
   ]
  },
  {
   "cell_type": "markdown",
   "id": "77bec5b3-1024-41e2-9f78-04caccbfcb45",
   "metadata": {},
   "source": [
    "### Estimation of Combined Information of Multiple SNPs\n",
    "* The greater the number of SNPs, the greater the gap between lower_bound_mi and upper_bound_mi"
   ]
  },
  {
   "cell_type": "code",
   "execution_count": 14,
   "id": "d3301d57-d1c4-45dd-a641-6598315cf304",
   "metadata": {},
   "outputs": [
    {
     "data": {
      "text/plain": [
       "(11.950604176533803, 58.843904176533805)"
      ]
     },
     "execution_count": 14,
     "metadata": {},
     "output_type": "execute_result"
    }
   ],
   "source": [
    "lower_bound_mi, upper_bound_mi = joint_entropy+max(mutual_info), joint_entropy+round(sum(mutual_info), 5)\n",
    "lower_bound_mi, upper_bound_mi"
   ]
  },
  {
   "cell_type": "code",
   "execution_count": 15,
   "id": "e2717579-e11c-426c-9f44-37839ac40b23",
   "metadata": {},
   "outputs": [
    {
     "data": {
      "text/plain": [
       "1151.79368"
      ]
     },
     "execution_count": 15,
     "metadata": {},
     "output_type": "execute_result"
    }
   ],
   "source": [
    "round(sum(entropy_each_snp) - lower_bound_mi, 5)"
   ]
  },
  {
   "cell_type": "code",
   "execution_count": 16,
   "id": "2ce7f405-be84-4e46-b126-1fa498a64d4d",
   "metadata": {},
   "outputs": [
    {
     "data": {
      "text/plain": [
       "1104.90038"
      ]
     },
     "execution_count": 16,
     "metadata": {},
     "output_type": "execute_result"
    }
   ],
   "source": [
    "round(sum(entropy_each_snp) - upper_bound_mi, 5)"
   ]
  },
  {
   "cell_type": "markdown",
   "id": "24a96d0a-c0aa-4693-ae8b-4965918743b5",
   "metadata": {},
   "source": [
    "### Summary"
   ]
  },
  {
   "cell_type": "code",
   "execution_count": 17,
   "id": "00bbbc0c-5a48-48a6-8824-701c6ee0fbe9",
   "metadata": {},
   "outputs": [],
   "source": [
    "file_name = \"preanalysis/snps_combined_information.csv\""
   ]
  },
  {
   "cell_type": "code",
   "execution_count": 18,
   "id": "b7d67b58-bd48-4788-8b4f-e0f8608747a5",
   "metadata": {},
   "outputs": [
    {
     "data": {
      "text/html": [
       "<div>\n",
       "<style scoped>\n",
       "    .dataframe tbody tr th:only-of-type {\n",
       "        vertical-align: middle;\n",
       "    }\n",
       "\n",
       "    .dataframe tbody tr th {\n",
       "        vertical-align: top;\n",
       "    }\n",
       "\n",
       "    .dataframe thead th {\n",
       "        text-align: right;\n",
       "    }\n",
       "</style>\n",
       "<table border=\"1\" class=\"dataframe\">\n",
       "  <thead>\n",
       "    <tr style=\"text-align: right;\">\n",
       "      <th></th>\n",
       "      <th>joint_entropy_</th>\n",
       "      <th>total_corr_</th>\n",
       "      <th>est_total_corr_lower</th>\n",
       "      <th>est_total_corr_upper</th>\n",
       "    </tr>\n",
       "  </thead>\n",
       "  <tbody>\n",
       "    <tr>\n",
       "      <th>0</th>\n",
       "      <td>0.00940</td>\n",
       "      <td>1.30380</td>\n",
       "      <td>0.39356</td>\n",
       "      <td>0.39356</td>\n",
       "    </tr>\n",
       "    <tr>\n",
       "      <th>1</th>\n",
       "      <td>0.01899</td>\n",
       "      <td>2.83989</td>\n",
       "      <td>1.76851</td>\n",
       "      <td>1.68629</td>\n",
       "    </tr>\n",
       "    <tr>\n",
       "      <th>2</th>\n",
       "      <td>0.02844</td>\n",
       "      <td>4.21156</td>\n",
       "      <td>3.25425</td>\n",
       "      <td>3.07878</td>\n",
       "    </tr>\n",
       "    <tr>\n",
       "      <th>3</th>\n",
       "      <td>0.03797</td>\n",
       "      <td>5.66875</td>\n",
       "      <td>4.65209</td>\n",
       "      <td>3.99497</td>\n",
       "    </tr>\n",
       "    <tr>\n",
       "      <th>4</th>\n",
       "      <td>0.04715</td>\n",
       "      <td>6.71345</td>\n",
       "      <td>5.98296</td>\n",
       "      <td>5.71856</td>\n",
       "    </tr>\n",
       "    <tr>\n",
       "      <th>...</th>\n",
       "      <td>...</td>\n",
       "      <td>...</td>\n",
       "      <td>...</td>\n",
       "      <td>...</td>\n",
       "    </tr>\n",
       "    <tr>\n",
       "      <th>1227</th>\n",
       "      <td>11.17541</td>\n",
       "      <td>1149.31078</td>\n",
       "      <td>1149.13621</td>\n",
       "      <td>1121.86932</td>\n",
       "    </tr>\n",
       "    <tr>\n",
       "      <th>1228</th>\n",
       "      <td>11.18397</td>\n",
       "      <td>1149.58562</td>\n",
       "      <td>1149.38919</td>\n",
       "      <td>1126.52046</td>\n",
       "    </tr>\n",
       "    <tr>\n",
       "      <th>1229</th>\n",
       "      <td>11.19301</td>\n",
       "      <td>1150.44745</td>\n",
       "      <td>1149.84380</td>\n",
       "      <td>1063.53509</td>\n",
       "    </tr>\n",
       "    <tr>\n",
       "      <th>1230</th>\n",
       "      <td>11.20219</td>\n",
       "      <td>1151.47562</td>\n",
       "      <td>1150.75658</td>\n",
       "      <td>1072.09384</td>\n",
       "    </tr>\n",
       "    <tr>\n",
       "      <th>1231</th>\n",
       "      <td>11.21138</td>\n",
       "      <td>1152.53291</td>\n",
       "      <td>1151.79369</td>\n",
       "      <td>1104.90039</td>\n",
       "    </tr>\n",
       "  </tbody>\n",
       "</table>\n",
       "<p>1232 rows × 4 columns</p>\n",
       "</div>"
      ],
      "text/plain": [
       "      joint_entropy_  total_corr_  est_total_corr_lower  est_total_corr_upper\n",
       "0            0.00940      1.30380               0.39356               0.39356\n",
       "1            0.01899      2.83989               1.76851               1.68629\n",
       "2            0.02844      4.21156               3.25425               3.07878\n",
       "3            0.03797      5.66875               4.65209               3.99497\n",
       "4            0.04715      6.71345               5.98296               5.71856\n",
       "...              ...          ...                   ...                   ...\n",
       "1227        11.17541   1149.31078            1149.13621            1121.86932\n",
       "1228        11.18397   1149.58562            1149.38919            1126.52046\n",
       "1229        11.19301   1150.44745            1149.84380            1063.53509\n",
       "1230        11.20219   1151.47562            1150.75658            1072.09384\n",
       "1231        11.21138   1152.53291            1151.79369            1104.90039\n",
       "\n",
       "[1232 rows x 4 columns]"
      ]
     },
     "execution_count": 18,
     "metadata": {},
     "output_type": "execute_result"
    }
   ],
   "source": [
    "snp_info = read_csv(\"./results/\" + file_name)\n",
    "snp_info"
   ]
  },
  {
   "cell_type": "code",
   "execution_count": 19,
   "id": "ca37a638-0f41-47f2-bfb1-e039ccc5db30",
   "metadata": {},
   "outputs": [
    {
     "data": {
      "image/png": "[encoded data removed]",
      "text/plain": [
       "<Figure size 720x432 with 1 Axes>"
      ]
     },
     "metadata": {
      "needs_background": "light"
     },
     "output_type": "display_data"
    }
   ],
   "source": [
    "plt.figure(figsize=(10, 6))\n",
    "plt.plot(range(1, len(snps.columns)+1), snp_info.est_total_corr_lower, label=\"Lower Bound\", color=\"xkcd:turquoise green\")\n",
    "plt.plot(range(1, len(snps.columns)+1), snp_info.est_total_corr_upper, label=\"Upper Bound\", color=\"xkcd:yellowish orange\")\n",
    "plt.title(\"Total Correlation Distribution\")\n",
    "plt.xlabel(\"Number of SNPs\")\n",
    "plt.ylabel(\"Total Correlation\")\n",
    "plt.legend()\n",
    "plt.show()\n",
    "\n",
    "# To save this figure:\n",
    "# plt.savefig(fname=save_path + \"preanalysis/total-corr-dist\" + ext, dpi=500, bbox_inches='tight')"
   ]
  },
  {
   "cell_type": "markdown",
   "id": "834563c7-3db2-4f17-b0c0-2109a1c72564",
   "metadata": {},
   "source": [
    "### Copyright 2022 Authors\n",
    "* Do <b>NOT</b> use or redistribute this file <b>EXCEPT</b> there is an official permission from authors.\n",
    "* Please cite our paper whenever you take references from this research.\n",
    "* Any questions can be addressed to `nicholas.dominic@binus.ac.id` or `bdsrc@binus.edu`.\n",
    "\n",
    "Bioinformatics and Data Science Research Center [(visit page)](https://research.binus.ac.id/bdsrc/)\n",
    "<br>NVIDIA - BINUS Artificial Intelligence Research and Development Center [(visit page)](https://research.binus.ac.id/airdc/)\n",
    "<br><b>BINUS Higher Education</b>, part of BINUS Group [(visit page)](https://www.binus.edu/) [(visit QS page)](https://www.topuniversities.com/universities/bina-nusantara-university-binus)"
   ]
  }
 ],
 "metadata": {
  "kernelspec": {
   "display_name": "Python 3 (ipykernel)",
   "language": "python",
   "name": "python3"
  },
  "language_info": {
   "codemirror_mode": {
    "name": "ipython",
    "version": 3
   },
   "file_extension": ".py",
   "mimetype": "text/x-python",
   "name": "python",
   "nbconvert_exporter": "python",
   "pygments_lexer": "ipython3",
   "version": "3.9.12"
  }
 },
 "nbformat": 4,
 "nbformat_minor": 5
}
